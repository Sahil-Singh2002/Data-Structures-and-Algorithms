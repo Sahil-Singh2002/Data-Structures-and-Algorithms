{
  "nbformat": 4,
  "nbformat_minor": 0,
  "metadata": {
    "colab": {
      "provenance": [],
      "authorship_tag": "ABX9TyOaanm62qNQJAy4FDbr7b1e",
      "include_colab_link": true
    },
    "kernelspec": {
      "name": "python3",
      "display_name": "Python 3"
    },
    "language_info": {
      "name": "python"
    }
  },
  "cells": [
    {
      "cell_type": "markdown",
      "metadata": {
        "id": "view-in-github",
        "colab_type": "text"
      },
      "source": [
        "<a href=\"https://colab.research.google.com/github/Sahil-Singh2002/Data-Structures-and-Algorithms/blob/main/Introduction_to_Algorithms.ipynb\" target=\"_parent\"><img src=\"https://colab.research.google.com/assets/colab-badge.svg\" alt=\"Open In Colab\"/></a>"
      ]
    },
    {
      "cell_type": "markdown",
      "source": [
        "##Find Crossover Indices.\n",
        "\n",
        "You are given data that consists of points\n",
        "$(x_0, y_0), \\ldots, (x_n, y_n)$, wherein $x_0 < x_1 < \\ldots < x_n $, and  $y_0 < y_1 \\ldots < y_n$ as well.\n",
        "\n",
        "Furthermore, it is given that $y_0 < x_0$ and $ y_n > x_n$.\n",
        "\n",
        "Find a \"cross-over\" index $i$ between $0$ and $n-1$ such that  $ y_i \\leq x_i$ and $y_{i+1} > x_{i+1}$.\n",
        "\n",
        "Note that such an index must always exist (convince yourself of this fact before we proceed).\n",
        "\n",
        "\n",
        "__Example__\n",
        "\n",
        "$$\\begin{array}{c| c c c c c c c c c }\n",
        "i & 0 & 1 & 2 & 3 & 4 & 5 & 6 & 7 \\\\\n",
        "\\hline\n",
        "x_i & 0 & 2 & 4 & \\color{red}{5} & \\color{red}{6} & 7 & 8 & 10 \\\\\n",
        "y_i & -2 & 0 & 2 & \\color{red}{4} & \\color{red}{7} & 8 & 10 & 12 \\\\\n",
        "\\end{array} $$\n",
        "\n",
        "\n",
        "Your algorithm must find the index $i=3$ as the crossover point.\n",
        "\n",
        "On the other hand, consider the data\n",
        "\n",
        "$$\\begin{array}{c| c c c c c c c c c }\n",
        "i & 0 & 1 & 2 & 3 & 4 & 5 & 6 & 7 \\\\\n",
        "\\hline\n",
        "x_i & \\color{red}{0} & \\color{red}{1} & 4 & \\color{red}{5} & \\color{red}{6} & 7 & 8 & 10 \\\\\n",
        "y_i & \\color{red}{-2} & \\color{red}{1.5} & 2 & \\color{red}{4} & \\color{red}{7} & 8 & 10 & 12 \\\\\n",
        "\\end{array} $$\n",
        "\n",
        "We have two cross over points. Your algorithm may output either $i=0$ or $i=3$.\n",
        "\n",
        "Design an algorithm to find an index $i \\in \\{ 0, 1, \\ldots, n-1\\}$ such that $x_i \\geq y_i$ but $x_{i+1} < y_{i+1}$.\n",
        "\n",
        "Describe your algorithm using python code for a function _findCrossoverIndexHelper(x, y, left, right)_\n",
        "  - `x` is a list of x values sorted in increasing order.\n",
        "  - `y` is a list of y values sorted in increasing order.\n",
        "  - `x` and `y` are lists of same size (`n`).\n",
        "  - `left` and `right` are indices that represent the current search region in the list such that 0 <= `left` < `right` <= `n`"
      ],
      "metadata": {
        "id": "5A4R7DRBa8nH"
      }
    },
    {
      "cell_type": "code",
      "execution_count": null,
      "metadata": {
        "id": "Uda9GQegaJwT"
      },
      "outputs": [],
      "source": [
        "#First write a \"helper\" function with two extra parameters\n",
        "# left, right that ddedscribes the search region as shown below\n",
        "def findCrossoverIndexHelper(x, y, left, right):\n",
        "    # Note: Output index i such that\n",
        "    #         left <= i <= right\n",
        "    #         x[i] <= y[i]\n",
        "    # First, Write down our invariants as assertions here\n",
        "    assert(len(x) == len(y))\n",
        "    assert(left >= 0)\n",
        "    assert(left <= right-1)\n",
        "    assert(right < len(x))\n",
        "    # Here is the key property we would like to maintain.\n",
        "    assert(x[left] > y[left])\n",
        "    assert(x[right] < y[right])\n",
        "\n",
        "    # your code here\n",
        "\n",
        "    if left == right -1:\n",
        "        return left\n",
        "\n",
        "    mid = left + (right - left) // 2\n",
        "\n",
        "    if x[mid] <= y[mid]:\n",
        "        if x[mid+1] > y[mid+1]:\n",
        "            return findCrossoverIndexHelper(x, y,mid+1,right)\n",
        "\n",
        "        else:\n",
        "            return findCrossoverIndexHelper(x, y,left,mid)\n",
        "    else:\n",
        "        return findCrossoverIndexHelper(x, y,mid,right)"
      ]
    },
    {
      "cell_type": "code",
      "source": [
        "#Define the function findCrossoverIndex that wil\n",
        "# call the helper function findCrossoverIndexHelper\n",
        "def findCrossoverIndex(x, y):\n",
        "    assert(len(x) == len(y))\n",
        "    assert(x[0] > y[0])\n",
        "    n = len(x)\n",
        "    assert(x[n-1] < y[n-1]) # Note: this automatically ensures n >= 2 why?\n",
        "    # your code here\n",
        "    return findCrossoverIndexHelper(x, y,0,n-1)"
      ],
      "metadata": {
        "id": "fs6I1ffpaaqs"
      },
      "execution_count": null,
      "outputs": []
    },
    {
      "cell_type": "code",
      "source": [
        "# BEGIN TEST CASES\n",
        "j1 = findCrossoverIndex([0, 1, 2, 3, 4, 5, 6, 7], [-2, 0, 4, 5, 6, 7, 8, 9])\n",
        "print('j1 = %d' % j1)\n",
        "assert j1 == 1, \"Test Case # 1 Failed\"\n",
        "\n",
        "j2 = findCrossoverIndex([0, 1, 2, 3, 4, 5, 6, 7], [-2, 0, 4, 4.2, 4.3, 4.5, 8, 9])\n",
        "print('j2 = %d' % j2)\n",
        "assert j2 == 1 or j2 == 5, \"Test Case # 2 Failed\"\n",
        "\n",
        "j3 = findCrossoverIndex([0, 1], [-10, 10])\n",
        "print('j3 = %d' % j3)\n",
        "assert j3 == 0, \"Test Case # 3 failed\"\n",
        "\n",
        "j4 = findCrossoverIndex([0,1, 2, 3], [-10, -9, -8, 5])\n",
        "print('j4 = %d' % j4)\n",
        "assert j4 == 2, \"Test Case # 4 failed\""
      ],
      "metadata": {
        "id": "0lUe1y0Xadm8"
      },
      "execution_count": null,
      "outputs": []
    },
    {
      "cell_type": "markdown",
      "source": [
        "##Find integer cube root\n",
        "\n",
        "The integer cube root of a positive number $n$ is the smallest number $i$ such that $i^3 \\leq n$ but $(i+1)^3 > n$.\n",
        "\n",
        "For instance, the integer cube root of $100$ is $4$ since $4^3 \\leq 100$ but $5^3 > 100$. Likewise, the integer cube root of $1000$ is $10$.\n",
        "\n",
        "Write a function `integerCubeRootHelper(n, left, right)` that searches for the integer cube-root of `n` between `left` and `right` given the following pre-conditions:\n",
        "  - $n \\geq 1$\n",
        "  - $\\text{left} < \\text{right}$.\n",
        "  - $\\text{left}^3 < n$\n",
        "  - $\\text{right}^3 > n$."
      ],
      "metadata": {
        "id": "MeBuBlqvajQv"
      }
    },
    {
      "cell_type": "code",
      "source": [
        "def integerCubeRootHelper(n, left, right):\n",
        "    cube = lambda x: x * x * x # anonymous function to cube a number\n",
        "    assert(n >= 1)\n",
        "    assert(left < right)\n",
        "    assert(left >= 0)\n",
        "    assert(right < n)\n",
        "    assert(cube(left) < n), f'{left}, {right}'\n",
        "    assert(cube(right) > n), f'{left}, {right}'\n",
        "    # your code here\n",
        "    while left < right:\n",
        "\n",
        "        cent = left + (right-left) //2\n",
        "\n",
        "        mid_c = cube(cent)\n",
        "\n",
        "\n",
        "\n",
        "        if cube(cent+1) >n and mid_c <= n :\n",
        "            return cent\n",
        "        if mid_c > n:\n",
        "            right = cent-1\n",
        "        else:\n",
        "            left = cent+1\n",
        "    return left"
      ],
      "metadata": {
        "id": "o5JBe1PGajXx"
      },
      "execution_count": null,
      "outputs": []
    },
    {
      "cell_type": "code",
      "source": [
        "# Write down the main function\n",
        "def integerCubeRoot(n):\n",
        "    assert( n > 0)\n",
        "    if (n == 1):\n",
        "        return 1\n",
        "    if (n == 2):\n",
        "        return 1\n",
        "    return integerCubeRootHelper(n, 0, n-1)"
      ],
      "metadata": {
        "id": "_moPkkl7al3v"
      },
      "execution_count": null,
      "outputs": []
    },
    {
      "cell_type": "code",
      "source": [
        "assert(integerCubeRoot(1) == 1)\n",
        "assert(integerCubeRoot(2) == 1)\n",
        "assert(integerCubeRoot(4) == 1)\n",
        "assert(integerCubeRoot(7) == 1)\n",
        "assert(integerCubeRoot(8) == 2)\n",
        "assert(integerCubeRoot(20) == 2)\n",
        "assert(integerCubeRoot(26) == 2)\n",
        "for j in range(27, 64):\n",
        "    assert(integerCubeRoot(j) == 3)\n",
        "for j in range(64,125):\n",
        "    assert(integerCubeRoot(j) == 4)\n",
        "for j in range(125, 216):\n",
        "    assert(integerCubeRoot(j) == 5)\n",
        "for j in range(216, 343):\n",
        "    assert(integerCubeRoot(j) == 6)\n",
        "for j in range(343, 512):\n",
        "    assert(integerCubeRoot(j) == 7)"
      ],
      "metadata": {
        "id": "PDSLUxSbam2P"
      },
      "execution_count": null,
      "outputs": []
    },
    {
      "cell_type": "markdown",
      "source": [
        "##Develop Multiway Merge Algorithm\n",
        "\n",
        "We studied the problem of merging 2 sorted lists `lst1` and `lst2` into a single sorted list in time $\\Theta(m + n)$ where $m$ is the size of `lst1` and $n$ is the size of `lst2`.  Let `twoWayMerge(lst1, lst2)` represent the python function that returns the merged result using the approach presented in class.\n",
        "\n",
        "In this problem, we will explore algorithms for merging `k` different sorted lists, usually represented as a list of sorted lists into a single list.\n",
        "\n",
        "Implement an algorithm that will implement the $k$ way merge by calling `twoWayMerge` repeatedly as follows:\n",
        "  1. Call `twoWayMerge` on consecutive pairs of lists `twoWayMerge(lists[0], lists[1])`, ... , `twoWayMerge(lists[k-2], lists[k-1])` (assume k is even).\n",
        "  2. Thus, we create a new list of lists of size `k/2`.\n",
        "  3. Repeat steps 1, 2 until we have a single list left."
      ],
      "metadata": {
        "id": "HGMRzCe8aqBv"
      }
    },
    {
      "cell_type": "code",
      "source": [
        "def twoWayMerge(lst1, lst2):\n",
        "    # Implement the two way merge algorithm on\n",
        "    #          two ascending order sorted lists\n",
        "    # return a fresh ascending order sorted list that\n",
        "    #          merges lst1 and lst2\n",
        "    # your code here\n",
        "\n",
        "    merged_list = []\n",
        "\n",
        "    i = 0\n",
        "    j = 0\n",
        "\n",
        "    while i < len(lst1) and j< len(lst2):\n",
        "        if lst1[i]>lst2[j]:\n",
        "            merged_list.append(lst2[j])\n",
        "            j = j+1\n",
        "\n",
        "        else:\n",
        "            merged_list.append(lst1[i])\n",
        "            i = i+1\n",
        "\n",
        "    merged_list.extend(lst2[j:])\n",
        "    merged_list.extend(lst1[i:])\n",
        "\n",
        "    return merged_list"
      ],
      "metadata": {
        "id": "nji3kv43aqUH"
      },
      "execution_count": null,
      "outputs": []
    },
    {
      "cell_type": "code",
      "source": [
        "# given a list_of_lists as input,\n",
        "#   if list_of_lists has 2 or more lists,\n",
        "#        compute 2 way merge on elements i, i+1 for i = 0, 2, ...\n",
        "#   return new list of lists after the merge\n",
        "#   Handle the case when the list size is odd carefully.\n",
        "def oneStepKWayMerge(list_of_lists):\n",
        "    if (len(list_of_lists) <= 1):\n",
        "        return list_of_lists\n",
        "    ret_list_of_lists = []\n",
        "    k = len(list_of_lists)\n",
        "    for i in range(0, k, 2):\n",
        "        if (i < k-1):\n",
        "            ret_list_of_lists.append(twoWayMerge(list_of_lists[i], list_of_lists[i+1]))\n",
        "        else:\n",
        "            ret_list_of_lists.append(list_of_lists[k-1])\n",
        "    return ret_list_of_lists"
      ],
      "metadata": {
        "id": "OHCXfeF_as2X"
      },
      "execution_count": null,
      "outputs": []
    },
    {
      "cell_type": "code",
      "source": [
        "# Given a list of lists wherein each\n",
        "#    element of list_of_lists is sorted in ascending order,\n",
        "# use the oneStepKWayMerge function repeatedly to merge them.\n",
        "# Return a single merged list that is sorted in ascending order.\n",
        "def kWayMerge(list_of_lists):\n",
        "    k = len(list_of_lists)\n",
        "    if k == 1:\n",
        "        return list_of_lists[0]\n",
        "    else:\n",
        "        new_list_of_lists = oneStepKWayMerge(list_of_lists)\n",
        "        return kWayMerge(new_list_of_lists)"
      ],
      "metadata": {
        "id": "lhPXbFX8axUh"
      },
      "execution_count": null,
      "outputs": []
    },
    {
      "cell_type": "code",
      "source": [
        "# BEGIN TESTS\n",
        "lst1= kWayMerge([[1,2,3], [4,5,7],[-2,0,6],[5]])\n",
        "assert lst1 == [-2, 0, 1, 2, 3, 4, 5, 5, 6, 7], \"Test 1 failed\"\n",
        "\n",
        "lst2 = kWayMerge([[-2, 4, 5 , 8], [0, 1, 2], [-1, 3,6,7]])\n",
        "assert lst2 == [-2, -1, 0, 1, 2, 3, 4, 5, 6, 7, 8], \"Test 2 failed\"\n",
        "\n",
        "lst3 = kWayMerge([[-1, 1, 2, 3, 4, 5]])\n",
        "assert lst3 == [-1, 1, 2, 3, 4, 5], \"Test 3 Failed\""
      ],
      "metadata": {
        "id": "G5OeUFByazqb"
      },
      "execution_count": null,
      "outputs": []
    }
  ]
}